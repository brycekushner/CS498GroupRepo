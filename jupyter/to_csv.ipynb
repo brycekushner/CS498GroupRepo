{
 "cells": [
  {
   "cell_type": "code",
   "execution_count": 2,
   "metadata": {
    "collapsed": true
   },
   "outputs": [],
   "source": [
    "import spotipy\n",
    "import spotipy.util as util\n",
    "from spotipy.oauth2 import SpotifyClientCredentials\n",
    "import json\n",
    "import pandas as pd"
   ]
  },
  {
   "cell_type": "markdown",
   "metadata": {},
   "source": [
    "## Spotipy setup\n",
    "\n",
    "- Need client id and client secret which you can get from [here](https://developer.spotify.com/dashboard/login).\n",
    "- Also need to setup your redirectURI. I just use Google. It doesn't really matter. You can do this by clicking on the green 'Edit Settings' button. Make sure to add and save.\n",
    "- Username is your user id which you can find by (at least on the desktop app) clicking on your name in the top right to get to your profile, clicking the '...' under your name, hover over 'Share' and navigate to 'Copy Profile Link'. Click it. Paste somewhere to show the link which should be something like https://open.spotify.com/user/** where ** is your user id."
   ]
  },
  {
   "cell_type": "code",
   "execution_count": 4,
   "metadata": {},
   "outputs": [],
   "source": [
    "cId = \"xxx\"\n",
    "cSecret = \"xxx\"\n",
    "redirectURI = \"https://google.com/\"\n",
    "username = \"xxx\"\n",
    "\n",
    "client_credentials_manager = SpotifyClientCredentials(client_id=cId, client_secret=cSecret)\n",
    "sp = spotipy.Spotify(client_credentials_manager=client_credentials_manager)\n",
    "\n",
    "scope = 'user-library-read user-read-currently-playing user-read-playback-state user-read-recently-played'\n",
    "token = util.prompt_for_user_token(username, scope, cId, cSecret, redirectURI)\n",
    "\n",
    "if token:\n",
    "    sp = spotipy.Spotify(auth=token)\n",
    "else:\n",
    "    print(\"Can't get token for\", username)"
   ]
  },
  {
   "cell_type": "markdown",
   "metadata": {},
   "source": [
    "## Importing some saved tracks from spotify to a csv file"
   ]
  },
  {
   "cell_type": "markdown",
   "metadata": {},
   "source": [
    "This stores the user's saved tracks, artists, and albums into their respective lists."
   ]
  },
  {
   "cell_type": "code",
   "execution_count": 5,
   "metadata": {},
   "outputs": [],
   "source": [
    "track_list = []\n",
    "artist_list = []\n",
    "album_list = []\n",
    "\n",
    "song_artist_list = []\n",
    "song_album_list = []\n",
    "album_artist_list = []\n",
    "\n",
    "top_us_50 = sp.user_playlist('spotify', playlist_id='37i9dQZEVXbLRQDuF5jeBp', fields=None)\n",
    "\n",
    "for t in top_us_50['tracks']['items']:\n",
    "    track = t['track']\n",
    "    track_id = track['id']\n",
    "    track_name = track['name']\n",
    "\n",
    "    # iterating through each artist of the track\n",
    "    for artist in track['artists']:\n",
    "        artist_id = artist['id']\n",
    "\n",
    "        # storing artist in artist list\n",
    "        artist_dict = {\n",
    "            'artist_id': artist_id,\n",
    "            'artist_name': artist['name']\n",
    "        }\n",
    "        artist_list.append(artist_dict)\n",
    "\n",
    "        # storing track id and artist id in list\n",
    "        song_artist_dict = {\n",
    "            'track_id': track_id,\n",
    "            'artist_id': artist_id\n",
    "        }\n",
    "        song_artist_list.append(song_artist_dict)\n",
    "\n",
    "    # getting album info\n",
    "    track_album = track['album']\n",
    "    album_id = track_album['id']\n",
    "    album_name = track_album['name']\n",
    "    album_img = track_album['images'][0]['url']\n",
    "    album_type = track_album['album_type']\n",
    "    release_date = track_album['release_date']\n",
    "    total_tracks = track_album['total_tracks']\n",
    "\n",
    "    # iterating through album artists\n",
    "    for album in track_album['artists']:\n",
    "        # storing album id and artist id in list\n",
    "        album_artist_dict = {\n",
    "            'album_id': album_id,\n",
    "            'artist_id': album['id']\n",
    "        }\n",
    "        album_artist_list.append(album_artist_dict)\n",
    "\n",
    "    # storing track id and album id in list\n",
    "    song_album_dict = {\n",
    "        'track_id': track_id,\n",
    "        'album_id': album_id\n",
    "    }\n",
    "    song_album_list.append(song_album_dict)\n",
    "\n",
    "    # storing track info in list\n",
    "    track_dict = {\n",
    "        'track_id': track_id,\n",
    "        'track_name': track_name,\n",
    "    }\n",
    "    track_list.append(track_dict)\n",
    "\n",
    "    # storing album info in list\n",
    "    album_dict = {\n",
    "        'album_id': album_id,\n",
    "        'album_name': album_name,\n",
    "        'album_img': album_img,\n",
    "        'album_type': album_type,\n",
    "        'release_date': release_date,\n",
    "        'total_tracks': total_tracks\n",
    "    }\n",
    "    album_list.append(album_dict)"
   ]
  },
  {
   "cell_type": "code",
   "execution_count": 6,
   "metadata": {
    "scrolled": false
   },
   "outputs": [
    {
     "data": {
      "text/html": [
       "<div>\n",
       "<style scoped>\n",
       "    .dataframe tbody tr th:only-of-type {\n",
       "        vertical-align: middle;\n",
       "    }\n",
       "\n",
       "    .dataframe tbody tr th {\n",
       "        vertical-align: top;\n",
       "    }\n",
       "\n",
       "    .dataframe thead th {\n",
       "        text-align: right;\n",
       "    }\n",
       "</style>\n",
       "<table border=\"1\" class=\"dataframe\">\n",
       "  <thead>\n",
       "    <tr style=\"text-align: right;\">\n",
       "      <th></th>\n",
       "      <th>track_name</th>\n",
       "    </tr>\n",
       "    <tr>\n",
       "      <th>track_id</th>\n",
       "      <th></th>\n",
       "    </tr>\n",
       "  </thead>\n",
       "  <tbody>\n",
       "    <tr>\n",
       "      <th>6ocbgoVGwYJhOv1GgI9NsF</th>\n",
       "      <td>7 rings</td>\n",
       "    </tr>\n",
       "    <tr>\n",
       "      <th>4kV4N9D1iKVxx1KLvtTpjS</th>\n",
       "      <td>break up with your girlfriend, i'm bored</td>\n",
       "    </tr>\n",
       "    <tr>\n",
       "      <th>6MWtB6iiXyIwun0YzU6DFP</th>\n",
       "      <td>Wow.</td>\n",
       "    </tr>\n",
       "    <tr>\n",
       "      <th>2JvzF1RMd7lE3KmFlsyZD8</th>\n",
       "      <td>MIDDLE CHILD</td>\n",
       "    </tr>\n",
       "    <tr>\n",
       "      <th>3KkXRkHbMCARz0aVfEt68P</th>\n",
       "      <td>Sunflower - Spider-Man: Into the Spider-Verse</td>\n",
       "    </tr>\n",
       "  </tbody>\n",
       "</table>\n",
       "</div>"
      ],
      "text/plain": [
       "                                                           track_name\n",
       "track_id                                                             \n",
       "6ocbgoVGwYJhOv1GgI9NsF                                        7 rings\n",
       "4kV4N9D1iKVxx1KLvtTpjS       break up with your girlfriend, i'm bored\n",
       "6MWtB6iiXyIwun0YzU6DFP                                           Wow.\n",
       "2JvzF1RMd7lE3KmFlsyZD8                                   MIDDLE CHILD\n",
       "3KkXRkHbMCARz0aVfEt68P  Sunflower - Spider-Man: Into the Spider-Verse"
      ]
     },
     "execution_count": 6,
     "metadata": {},
     "output_type": "execute_result"
    }
   ],
   "source": [
    "# Converting the track list into a dataframe\n",
    "\n",
    "track_df = pd.DataFrame(track_list)\n",
    "track_df.set_index('track_id', inplace=True) # change index to be the track id\n",
    "track_df.head() # preview first 5 rows of data"
   ]
  },
  {
   "cell_type": "code",
   "execution_count": 7,
   "metadata": {
    "collapsed": true
   },
   "outputs": [],
   "source": [
    "artist_df = pd.DataFrame(artist_list)\n",
    "artist_df.set_index('artist_id', inplace=True)\n",
    "artist_df.drop_duplicates(keep='first', inplace=True)"
   ]
  },
  {
   "cell_type": "code",
   "execution_count": 8,
   "metadata": {
    "collapsed": true
   },
   "outputs": [],
   "source": [
    "album_df = pd.DataFrame(album_list)\n",
    "album_df.set_index('album_id', inplace=True)\n",
    "album_df.drop_duplicates(keep='first', inplace=True) # drop duplicate albums"
   ]
  },
  {
   "cell_type": "code",
   "execution_count": 9,
   "metadata": {
    "collapsed": true
   },
   "outputs": [],
   "source": [
    "song_artist_df = pd.DataFrame(song_artist_list)\n",
    "song_album_df = pd.DataFrame(song_album_list)\n",
    "album_artist_df = pd.DataFrame(album_artist_list)"
   ]
  },
  {
   "cell_type": "markdown",
   "metadata": {},
   "source": [
    "Checking dataframe shapes"
   ]
  },
  {
   "cell_type": "code",
   "execution_count": 13,
   "metadata": {},
   "outputs": [
    {
     "name": "stdout",
     "output_type": "stream",
     "text": [
      "track (50, 1)\n",
      "artist (43, 1)\n",
      "album (36, 5)\n",
      "song_artist (71, 2)\n",
      "song_album (50, 2)\n",
      "album_artist (59, 2)\n"
     ]
    }
   ],
   "source": [
    "print('track', track_df.shape)\n",
    "print('artist', artist_df.shape)\n",
    "print('album', album_df.shape)\n",
    "print('song_artist', song_artist_df.shape)\n",
    "print('song_album', song_album_df.shape)\n",
    "print('album_artist', album_artist_df.shape)"
   ]
  },
  {
   "cell_type": "markdown",
   "metadata": {},
   "source": [
    "Saving the dataframes as csv files"
   ]
  },
  {
   "cell_type": "code",
   "execution_count": 11,
   "metadata": {
    "collapsed": true
   },
   "outputs": [],
   "source": [
    "track_df.to_csv('songs.csv')\n",
    "artist_df.to_csv('artists.csv')\n",
    "album_df.to_csv('albums.csv')\n",
    "\n",
    "song_artist_df.to_csv('song-artist.csv')\n",
    "song_album_df.to_csv('song-album.csv')\n",
    "album_artist_df.to_csv('album-artist.csv')"
   ]
  },
  {
   "cell_type": "markdown",
   "metadata": {},
   "source": [
    "Check out the csv files!"
   ]
  }
 ],
 "metadata": {
  "kernelspec": {
   "display_name": "Python 3",
   "language": "python",
   "name": "python3"
  },
  "language_info": {
   "codemirror_mode": {
    "name": "ipython",
    "version": 3
   },
   "file_extension": ".py",
   "mimetype": "text/x-python",
   "name": "python",
   "nbconvert_exporter": "python",
   "pygments_lexer": "ipython3",
   "version": "3.6.3"
  }
 },
 "nbformat": 4,
 "nbformat_minor": 2
}
