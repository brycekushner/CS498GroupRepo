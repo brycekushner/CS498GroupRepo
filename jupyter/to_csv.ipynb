{
 "cells": [
  {
   "cell_type": "code",
   "execution_count": 1,
   "metadata": {
    "collapsed": true
   },
   "outputs": [],
   "source": [
    "import spotipy\n",
    "import spotipy.util as util\n",
    "from spotipy.oauth2 import SpotifyClientCredentials\n",
    "import json\n",
    "import pandas as pd"
   ]
  },
  {
   "cell_type": "markdown",
   "metadata": {},
   "source": [
    "## Spotipy setup\n",
    "\n",
    "- Need client id and client secret which you can get from [here](https://developer.spotify.com/dashboard/login).\n",
    "- Also need to setup your redirectURI. I just use Google. It doesn't really matter. You can do this by clicking on the green 'Edit Settings' button. Make sure to add and save.\n",
    "- Username is your user id which you can find by (at least on the desktop app) clicking on your name in the top right to get to your profile, clicking the '...' under your name, hover over 'Share' and navigate to 'Copy Profile Link'. Click it. Paste somewhere to show the link which should be something like https://open.spotify.com/user/** where ** is your user id."
   ]
  },
  {
   "cell_type": "code",
   "execution_count": 2,
   "metadata": {},
   "outputs": [],
   "source": [
    "cId = \"xxx\"\n",
    "cSecret = \"xxx\"\n",
    "redirectURI = \"https://google.com/\"\n",
    "username = \"xxx\"\n",
    "\n",
    "client_credentials_manager = SpotifyClientCredentials(client_id=cId, client_secret=cSecret)\n",
    "sp = spotipy.Spotify(client_credentials_manager=client_credentials_manager)\n",
    "\n",
    "scope = 'user-library-read user-read-currently-playing user-read-playback-state user-read-recently-played'\n",
    "token = util.prompt_for_user_token(username, scope, cId, cSecret, redirectURI)\n",
    "\n",
    "if token:\n",
    "    sp = spotipy.Spotify(auth=token)\n",
    "else:\n",
    "    print(\"Can't get token for\", username)"
   ]
  },
  {
   "cell_type": "markdown",
   "metadata": {},
   "source": [
    "## Importing some saved tracks from spotify to a csv file"
   ]
  },
  {
   "cell_type": "markdown",
   "metadata": {},
   "source": [
    "This stores the user's saved tracks into a list named track_list and the album info into album_list.\n",
    "\n",
    "The \"amount\" is for the number of songs we want. I'm getting 100 for now. I have well over 1000 songs saved and it worked fine using that amount. I don't know how this would work if the user does not have more than the amount specified. "
   ]
  },
  {
   "cell_type": "code",
   "execution_count": 3,
   "metadata": {},
   "outputs": [],
   "source": [
    "track_list = []\n",
    "artist_list = []\n",
    "album_list = []\n",
    "\n",
    "song_artist_list = []\n",
    "song_album_list = []\n",
    "album_artist_list = []\n",
    "\n",
    "limit = 50\n",
    "amount = 100\n",
    "\n",
    "for i in range(0, amount, limit):\n",
    "    \n",
    "    saved_tracks = sp.current_user_saved_tracks(limit=limit, offset=i)\n",
    "    \n",
    "    for t in saved_tracks['items']:\n",
    "        track = t['track']\n",
    "        track_id = track['id']\n",
    "        track_name = track['name']\n",
    "\n",
    "        for t_artist in track['artists']:\n",
    "            artist_id = t_artist['id']\n",
    "            \n",
    "            artist_dict = {\n",
    "                'artist_id': artist_id,\n",
    "                'artist_name': t_artist['name']\n",
    "            }\n",
    "            artist_list.append(artist_dict)\n",
    "\n",
    "            song_artist_dict = {\n",
    "                'track_id': track_id,\n",
    "                'artist_id': artist_id\n",
    "            }\n",
    "            song_artist_list.append(song_artist_dict)\n",
    "        \n",
    "        track_album = track['album']\n",
    "        album_id = track_album['id']\n",
    "        album_name = track_album['name']\n",
    "        album_img = track_album['images'][0]['url']\n",
    "        album_type = track_album['album_type']\n",
    "        release_date = track_album['release_date']\n",
    "        total_tracks = track_album['total_tracks']\n",
    "\n",
    "        for a in track_album['artists']:\n",
    "            album_artist_dict = {\n",
    "                'album_id': album_id,\n",
    "                'artist_id': a['id']\n",
    "            }\n",
    "            album_artist_list.append(album_artist_dict)\n",
    "        \n",
    "        song_album_dict = {\n",
    "            'track_id': track_id,\n",
    "            'album_id': album_id\n",
    "        }\n",
    "        song_album_list.append(song_album_dict)\n",
    "        \n",
    "        track_dict = {\n",
    "            'track_id': track_id,\n",
    "            'track_name': track_name,\n",
    "        }\n",
    "        \n",
    "        album_dict = {\n",
    "            'album_id': album_id,\n",
    "            'album_name': album_name,\n",
    "            'album_img': album_img,\n",
    "            'album_type': album_type,\n",
    "            'release_date': release_date,\n",
    "            'total_tracks': total_tracks\n",
    "        }\n",
    "        \n",
    "        track_list.append(track_dict)\n",
    "        album_list.append(album_dict)"
   ]
  },
  {
   "cell_type": "markdown",
   "metadata": {},
   "source": [
    "Converting the track list into a dataframe"
   ]
  },
  {
   "cell_type": "code",
   "execution_count": 4,
   "metadata": {
    "scrolled": false
   },
   "outputs": [
    {
     "data": {
      "text/html": [
       "<div>\n",
       "<style scoped>\n",
       "    .dataframe tbody tr th:only-of-type {\n",
       "        vertical-align: middle;\n",
       "    }\n",
       "\n",
       "    .dataframe tbody tr th {\n",
       "        vertical-align: top;\n",
       "    }\n",
       "\n",
       "    .dataframe thead th {\n",
       "        text-align: right;\n",
       "    }\n",
       "</style>\n",
       "<table border=\"1\" class=\"dataframe\">\n",
       "  <thead>\n",
       "    <tr style=\"text-align: right;\">\n",
       "      <th></th>\n",
       "      <th>track_name</th>\n",
       "    </tr>\n",
       "    <tr>\n",
       "      <th>track_id</th>\n",
       "      <th></th>\n",
       "    </tr>\n",
       "  </thead>\n",
       "  <tbody>\n",
       "    <tr>\n",
       "      <th>2RSOzvKUnfDDrb2nQPfpQU</th>\n",
       "      <td>Barbie Girl</td>\n",
       "    </tr>\n",
       "    <tr>\n",
       "      <th>3DZQ6mzUkAdHqZWzqxBKIK</th>\n",
       "      <td>Loveeeeeee Song</td>\n",
       "    </tr>\n",
       "    <tr>\n",
       "      <th>68mxSfFGEVRJFoq2UCaVsU</th>\n",
       "      <td>The Purge</td>\n",
       "    </tr>\n",
       "    <tr>\n",
       "      <th>2Y6MLh2iXf6PP2GzHPlLzb</th>\n",
       "      <td>Different Skies</td>\n",
       "    </tr>\n",
       "    <tr>\n",
       "      <th>6WmIyn2fx1PKQ0XDpYj4VR</th>\n",
       "      <td>Love It If We Made It</td>\n",
       "    </tr>\n",
       "  </tbody>\n",
       "</table>\n",
       "</div>"
      ],
      "text/plain": [
       "                                   track_name\n",
       "track_id                                     \n",
       "2RSOzvKUnfDDrb2nQPfpQU            Barbie Girl\n",
       "3DZQ6mzUkAdHqZWzqxBKIK        Loveeeeeee Song\n",
       "68mxSfFGEVRJFoq2UCaVsU              The Purge\n",
       "2Y6MLh2iXf6PP2GzHPlLzb        Different Skies\n",
       "6WmIyn2fx1PKQ0XDpYj4VR  Love It If We Made It"
      ]
     },
     "execution_count": 4,
     "metadata": {},
     "output_type": "execute_result"
    }
   ],
   "source": [
    "track_df = pd.DataFrame(track_list)\n",
    "track_df.set_index('track_id', inplace=True) # change index to be the track id\n",
    "track_df.head() # preview first 5 rows of data"
   ]
  },
  {
   "cell_type": "code",
   "execution_count": 5,
   "metadata": {},
   "outputs": [],
   "source": [
    "artist_df = pd.DataFrame(artist_list)\n",
    "artist_df.set_index('artist_id', inplace=True)\n",
    "artist_df.drop_duplicates(keep='first', inplace=True)\n",
    "# artist_df.head()"
   ]
  },
  {
   "cell_type": "code",
   "execution_count": 6,
   "metadata": {},
   "outputs": [],
   "source": [
    "album_df = pd.DataFrame(album_list)\n",
    "album_df.set_index('album_id', inplace=True)\n",
    "album_df.drop_duplicates(keep='first', inplace=True) # drop duplicate albums\n",
    "# album_df.head()"
   ]
  },
  {
   "cell_type": "code",
   "execution_count": 7,
   "metadata": {},
   "outputs": [],
   "source": [
    "# the relational tables\n",
    "song_artist_df = pd.DataFrame(song_artist_list)\n",
    "song_album_df = pd.DataFrame(song_album_list)\n",
    "album_artist_df = pd.DataFrame(album_artist_list)\n",
    "\n",
    "# song_artist_df.head()\n",
    "# song_album_df.head()\n",
    "# album_artist_df.head()"
   ]
  },
  {
   "cell_type": "markdown",
   "metadata": {},
   "source": [
    "Checking dataframe shapes"
   ]
  },
  {
   "cell_type": "code",
   "execution_count": 8,
   "metadata": {},
   "outputs": [
    {
     "name": "stdout",
     "output_type": "stream",
     "text": [
      "(100, 1)\n",
      "(71, 1)\n",
      "(66, 5)\n",
      "(112, 2)\n",
      "(100, 2)\n",
      "(105, 2)\n"
     ]
    }
   ],
   "source": [
    "# expect 100 rows of data\n",
    "# 3 columns\n",
    "print(track_df.shape)\n",
    "\n",
    "# expect less than or equal to 100 rows\n",
    "print(artist_df.shape)\n",
    "\n",
    "# expect less than or equal to 100 rows\n",
    "print(album_df.shape)\n",
    "\n",
    "# expect greater than or equal to 100 rows because the same song can have multiple artists\n",
    "print(song_artist_df.shape)\n",
    "\n",
    "# expect 100 rows\n",
    "print(song_album_df.shape)\n",
    "\n",
    "# expect greater than or equal to 100 rows because the same album can have multiple artists\n",
    "print(album_artist_df.shape)"
   ]
  },
  {
   "cell_type": "markdown",
   "metadata": {},
   "source": [
    "Saving the dataframes as csv files"
   ]
  },
  {
   "cell_type": "code",
   "execution_count": 9,
   "metadata": {
    "collapsed": true
   },
   "outputs": [],
   "source": [
    "track_df.to_csv('songs.csv')\n",
    "artist_df.to_csv('artists.csv')\n",
    "album_df.to_csv('albums.csv')\n",
    "\n",
    "song_artist_df.to_csv('song-artist.csv')\n",
    "song_album_df.to_csv('song-album.csv')\n",
    "album_artist_df.to_csv('album-artist.csv')"
   ]
  },
  {
   "cell_type": "markdown",
   "metadata": {},
   "source": [
    "Check out the csv files!"
   ]
  }
 ],
 "metadata": {
  "kernelspec": {
   "display_name": "Python 3",
   "language": "python",
   "name": "python3"
  },
  "language_info": {
   "codemirror_mode": {
    "name": "ipython",
    "version": 3
   },
   "file_extension": ".py",
   "mimetype": "text/x-python",
   "name": "python",
   "nbconvert_exporter": "python",
   "pygments_lexer": "ipython3",
   "version": "3.6.3"
  }
 },
 "nbformat": 4,
 "nbformat_minor": 2
}
