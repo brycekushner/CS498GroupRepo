{
 "cells": [
  {
   "cell_type": "code",
   "execution_count": 34,
   "metadata": {
    "collapsed": true
   },
   "outputs": [],
   "source": [
    "import spotipy\n",
    "import spotipy.util as util\n",
    "from spotipy.oauth2 import SpotifyClientCredentials\n",
    "import json\n",
    "import pandas"
   ]
  },
  {
   "cell_type": "markdown",
   "metadata": {},
   "source": [
    "## Spotipy setup\n",
    "\n",
    "- Need client id and client secret which you can get from [here](https://developer.spotify.com/dashboard/login).\n",
    "- Also need to setup your redirectURI. I just use Google. It doesn't really matter. You can do this by clicking on the green 'Edit Settings' button. Make sure to add and save.\n",
    "- Username is your user id which you can find by (at least on the desktop app) clicking on your name in the top right to get to your profile, clicking the '...' under your name, hover over 'Share' and navigate to 'Copy Profile Link'. Click it. Paste somewhere to show the link which should be something like https://open.spotify.com/user/** where ** is your user id."
   ]
  },
  {
   "cell_type": "code",
   "execution_count": 35,
   "metadata": {
    "collapsed": true
   },
   "outputs": [],
   "source": [
    "cId = \"xxx\"\n",
    "cSecret = \"xxx\"\n",
    "redirectURI = \"https://google.com/\"\n",
    "username = \"xxx\"\n",
    "\n",
    "client_credentials_manager = SpotifyClientCredentials(client_id=cId, client_secret=cSecret)\n",
    "sp = spotipy.Spotify(client_credentials_manager=client_credentials_manager)\n",
    "\n",
    "scope = 'user-library-read user-read-currently-playing user-read-playback-state user-read-recently-played'\n",
    "token = util.prompt_for_user_token(username, scope, cId, cSecret, redirectURI)\n",
    "\n",
    "if token:\n",
    "    sp = spotipy.Spotify(auth=token)\n",
    "else:\n",
    "    print(\"Can't get token for\", username)"
   ]
  },
  {
   "cell_type": "markdown",
   "metadata": {},
   "source": [
    "## Getting user's (your) current track info and putting it into a json file\n",
    "\n",
    "User needs to at least have spotify open with a song playing or paused. I guess \"sessions\" are taken into consideration because I tried to run this without having the Spotify app open on my desktop and nothing was being returned.\n",
    "\n",
    "This is just an example. Not really necessary."
   ]
  },
  {
   "cell_type": "code",
   "execution_count": 36,
   "metadata": {
    "collapsed": true
   },
   "outputs": [],
   "source": [
    "current_track_info = sp.currently_playing()\n",
    "cp_json_string = json.dumps(current_track_info)\n",
    "cp_json_data = json.loads(cp_json_string)\n",
    "\n",
    "# print(json.dumps(current_track_info, sort_keys=False, indent=4))\n",
    "# print(cp_json_string)\n",
    "# print(cp_json_data)\n",
    "\n",
    "with open('current_song.json', 'w') as outfile:\n",
    "    json.dump(cp_json_data, outfile, sort_keys=True, indent=4)"
   ]
  },
  {
   "cell_type": "markdown",
   "metadata": {},
   "source": [
    "## Importing some saved tracks from spotify to a csv file"
   ]
  },
  {
   "cell_type": "markdown",
   "metadata": {},
   "source": [
    "Putting the user's saved tracks into a list named track_list\n",
    "\n",
    "Notes:\n",
    "-  The \"amount\" is for the number of songs we want. I'm getting 100 for now. I have well over 1000 songs saved and it worked fine using that amount. I don't know how this would work if the user does not have more than the amount specified. "
   ]
  },
  {
   "cell_type": "code",
   "execution_count": 37,
   "metadata": {
    "collapsed": true
   },
   "outputs": [],
   "source": [
    "track_list = []\n",
    "\n",
    "amount = 100\n",
    "\n",
    "for i in range(50, amount+1, 50):    \n",
    "    \n",
    "    saved_tracks = sp.current_user_saved_tracks(limit=50, offset=i)\n",
    "    \n",
    "    for t in saved_tracks['items']:\n",
    "        track = t['track']\n",
    "        \n",
    "        track_id = track['id']\n",
    "        track_name = track['name']\n",
    "        \n",
    "        artists = ''\n",
    "        for a in track['artists']:\n",
    "            artists += a['name'] + ','\n",
    "        artists = artists[:-1]\n",
    "        \n",
    "        track_album = track['album']\n",
    "        \n",
    "        album_name = track_album['name']\n",
    "        album_img = track_album['images'][0]['url']\n",
    "        album_type = track_album['album_type']\n",
    "        release_date = track_album['release_date']\n",
    "        \n",
    "        track_dict = {\n",
    "            'track_id': track_id,\n",
    "            'track_name': track_name,\n",
    "            'artists': artists,\n",
    "            'album_name': album_name,\n",
    "            'album_img': album_img,\n",
    "            'album_type': album_type,\n",
    "            'release_date': release_date\n",
    "        }\n",
    "        \n",
    "        track_list.append(track_dict)"
   ]
  },
  {
   "cell_type": "markdown",
   "metadata": {},
   "source": [
    "Converting the track list into a dataframe"
   ]
  },
  {
   "cell_type": "code",
   "execution_count": 38,
   "metadata": {
    "scrolled": false
   },
   "outputs": [
    {
     "data": {
      "text/html": [
       "<div>\n",
       "<style scoped>\n",
       "    .dataframe tbody tr th:only-of-type {\n",
       "        vertical-align: middle;\n",
       "    }\n",
       "\n",
       "    .dataframe tbody tr th {\n",
       "        vertical-align: top;\n",
       "    }\n",
       "\n",
       "    .dataframe thead th {\n",
       "        text-align: right;\n",
       "    }\n",
       "</style>\n",
       "<table border=\"1\" class=\"dataframe\">\n",
       "  <thead>\n",
       "    <tr style=\"text-align: right;\">\n",
       "      <th></th>\n",
       "      <th>album_img</th>\n",
       "      <th>album_name</th>\n",
       "      <th>album_type</th>\n",
       "      <th>artists</th>\n",
       "      <th>release_date</th>\n",
       "      <th>track_name</th>\n",
       "    </tr>\n",
       "    <tr>\n",
       "      <th>track_id</th>\n",
       "      <th></th>\n",
       "      <th></th>\n",
       "      <th></th>\n",
       "      <th></th>\n",
       "      <th></th>\n",
       "      <th></th>\n",
       "    </tr>\n",
       "  </thead>\n",
       "  <tbody>\n",
       "    <tr>\n",
       "      <th>0S001mAQoYNpTyVRu8BmMp</th>\n",
       "      <td>https://i.scdn.co/image/8b4e795c17070424342e2b...</td>\n",
       "      <td>Freetown Sound</td>\n",
       "      <td>album</td>\n",
       "      <td>Blood Orange</td>\n",
       "      <td>2016-06-28</td>\n",
       "      <td>Better Than Me</td>\n",
       "    </tr>\n",
       "    <tr>\n",
       "      <th>1UdR2sWnDBRd3m0YxZRkMG</th>\n",
       "      <td>https://i.scdn.co/image/8b4e795c17070424342e2b...</td>\n",
       "      <td>Freetown Sound</td>\n",
       "      <td>album</td>\n",
       "      <td>Blood Orange</td>\n",
       "      <td>2016-06-28</td>\n",
       "      <td>Hands Up</td>\n",
       "    </tr>\n",
       "    <tr>\n",
       "      <th>5u8ZMevzINPCrN2uXQkeNZ</th>\n",
       "      <td>https://i.scdn.co/image/9942526c238be77c283426...</td>\n",
       "      <td>Cupid Deluxe</td>\n",
       "      <td>album</td>\n",
       "      <td>Blood Orange</td>\n",
       "      <td>2013-11-18</td>\n",
       "      <td>No Right Thing</td>\n",
       "    </tr>\n",
       "    <tr>\n",
       "      <th>4Q7Iacj0dnfOu3bdXTcCUA</th>\n",
       "      <td>https://i.scdn.co/image/8b4e795c17070424342e2b...</td>\n",
       "      <td>Freetown Sound</td>\n",
       "      <td>album</td>\n",
       "      <td>Blood Orange</td>\n",
       "      <td>2016-06-28</td>\n",
       "      <td>But You</td>\n",
       "    </tr>\n",
       "    <tr>\n",
       "      <th>0e43YnIeghIkDOW146x3G5</th>\n",
       "      <td>https://i.scdn.co/image/8b4e795c17070424342e2b...</td>\n",
       "      <td>Freetown Sound</td>\n",
       "      <td>album</td>\n",
       "      <td>Blood Orange</td>\n",
       "      <td>2016-06-28</td>\n",
       "      <td>E.V.P.</td>\n",
       "    </tr>\n",
       "  </tbody>\n",
       "</table>\n",
       "</div>"
      ],
      "text/plain": [
       "                                                                album_img  \\\n",
       "track_id                                                                    \n",
       "0S001mAQoYNpTyVRu8BmMp  https://i.scdn.co/image/8b4e795c17070424342e2b...   \n",
       "1UdR2sWnDBRd3m0YxZRkMG  https://i.scdn.co/image/8b4e795c17070424342e2b...   \n",
       "5u8ZMevzINPCrN2uXQkeNZ  https://i.scdn.co/image/9942526c238be77c283426...   \n",
       "4Q7Iacj0dnfOu3bdXTcCUA  https://i.scdn.co/image/8b4e795c17070424342e2b...   \n",
       "0e43YnIeghIkDOW146x3G5  https://i.scdn.co/image/8b4e795c17070424342e2b...   \n",
       "\n",
       "                            album_name album_type       artists release_date  \\\n",
       "track_id                                                                       \n",
       "0S001mAQoYNpTyVRu8BmMp  Freetown Sound      album  Blood Orange   2016-06-28   \n",
       "1UdR2sWnDBRd3m0YxZRkMG  Freetown Sound      album  Blood Orange   2016-06-28   \n",
       "5u8ZMevzINPCrN2uXQkeNZ    Cupid Deluxe      album  Blood Orange   2013-11-18   \n",
       "4Q7Iacj0dnfOu3bdXTcCUA  Freetown Sound      album  Blood Orange   2016-06-28   \n",
       "0e43YnIeghIkDOW146x3G5  Freetown Sound      album  Blood Orange   2016-06-28   \n",
       "\n",
       "                            track_name  \n",
       "track_id                                \n",
       "0S001mAQoYNpTyVRu8BmMp  Better Than Me  \n",
       "1UdR2sWnDBRd3m0YxZRkMG        Hands Up  \n",
       "5u8ZMevzINPCrN2uXQkeNZ  No Right Thing  \n",
       "4Q7Iacj0dnfOu3bdXTcCUA         But You  \n",
       "0e43YnIeghIkDOW146x3G5          E.V.P.  "
      ]
     },
     "execution_count": 38,
     "metadata": {},
     "output_type": "execute_result"
    }
   ],
   "source": [
    "df = pandas.DataFrame(track_list)\n",
    "df.set_index('track_id', inplace=True)\n",
    "df.head()"
   ]
  },
  {
   "cell_type": "code",
   "execution_count": 39,
   "metadata": {},
   "outputs": [
    {
     "data": {
      "text/plain": [
       "(100, 6)"
      ]
     },
     "execution_count": 39,
     "metadata": {},
     "output_type": "execute_result"
    }
   ],
   "source": [
    "# checking df structure/shape\n",
    "\n",
    "# 100 rows of data\n",
    "# 6 columns\n",
    "\n",
    "df.shape"
   ]
  },
  {
   "cell_type": "markdown",
   "metadata": {},
   "source": [
    "Saving the dataframe as a csv"
   ]
  },
  {
   "cell_type": "code",
   "execution_count": 40,
   "metadata": {
    "collapsed": true
   },
   "outputs": [],
   "source": [
    "df.to_csv('songs.csv')"
   ]
  },
  {
   "cell_type": "markdown",
   "metadata": {},
   "source": [
    "Check out the csv file!"
   ]
  },
  {
   "cell_type": "code",
   "execution_count": null,
   "metadata": {
    "collapsed": true
   },
   "outputs": [],
   "source": []
  }
 ],
 "metadata": {
  "kernelspec": {
   "display_name": "Python 3",
   "language": "python",
   "name": "python3"
  },
  "language_info": {
   "codemirror_mode": {
    "name": "ipython",
    "version": 3
   },
   "file_extension": ".py",
   "mimetype": "text/x-python",
   "name": "python",
   "nbconvert_exporter": "python",
   "pygments_lexer": "ipython3",
   "version": "3.6.3"
  }
 },
 "nbformat": 4,
 "nbformat_minor": 2
}
