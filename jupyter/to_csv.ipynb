{
 "cells": [
  {
   "cell_type": "code",
   "execution_count": 1,
   "metadata": {
    "collapsed": true
   },
   "outputs": [],
   "source": [
    "import spotipy\n",
    "import spotipy.util as util\n",
    "from spotipy.oauth2 import SpotifyClientCredentials\n",
    "import json\n",
    "import pandas"
   ]
  },
  {
   "cell_type": "markdown",
   "metadata": {},
   "source": [
    "## Spotipy setup\n",
    "\n",
    "- Need client id and client secret which you can get from [here](https://developer.spotify.com/dashboard/login).\n",
    "- Also need to setup your redirectURI. I just use Google. It doesn't really matter. You can do this by clicking on the green 'Edit Settings' button. Make sure to add and save.\n",
    "- Username is your user id which you can find by (at least on the desktop app) clicking on your name in the top right to get to your profile, clicking the '...' under your name, hover over 'Share' and navigate to 'Copy Profile Link'. Click it. Paste somewhere to show the link which should be something like https://open.spotify.com/user/** where ** is your user id."
   ]
  },
  {
   "cell_type": "code",
   "execution_count": 2,
   "metadata": {
    "collapsed": true
   },
   "outputs": [],
   "source": [
    "cId = \"xxx\"\n",
    "cSecret = \"xxx\"\n",
    "redirectURI = \"https://google.com/\"\n",
    "username = \"xxx\"\n",
    "\n",
    "client_credentials_manager = SpotifyClientCredentials(client_id=cId, client_secret=cSecret)\n",
    "sp = spotipy.Spotify(client_credentials_manager=client_credentials_manager)\n",
    "\n",
    "scope = 'user-library-read user-read-currently-playing user-read-playback-state user-read-recently-played'\n",
    "token = util.prompt_for_user_token(username, scope, cId, cSecret, redirectURI)\n",
    "\n",
    "if token:\n",
    "    sp = spotipy.Spotify(auth=token)\n",
    "else:\n",
    "    print(\"Can't get token for\", username)"
   ]
  },
  {
   "cell_type": "markdown",
   "metadata": {},
   "source": [
    "## Importing some saved tracks from spotify to a csv file"
   ]
  },
  {
   "cell_type": "markdown",
   "metadata": {},
   "source": [
    "This stores the user's saved tracks into a list named track_list and the album info into album_list.\n",
    "\n",
    "The \"amount\" is for the number of songs we want. I'm getting 100 for now. I have well over 1000 songs saved and it worked fine using that amount. I don't know how this would work if the user does not have more than the amount specified. "
   ]
  },
  {
   "cell_type": "code",
   "execution_count": 4,
   "metadata": {
    "collapsed": true
   },
   "outputs": [],
   "source": [
    "track_list = []\n",
    "album_list = []\n",
    "\n",
    "limit = 50\n",
    "amount = 100\n",
    "\n",
    "for i in range(0, amount, limit):\n",
    "    \n",
    "    saved_tracks = sp.current_user_saved_tracks(limit=limit, offset=i)\n",
    "    \n",
    "    for t in saved_tracks['items']:\n",
    "        track = t['track']\n",
    "        \n",
    "        track_id = track['id']\n",
    "        track_name = track['name']\n",
    "        \n",
    "        track_artists = ''\n",
    "        for a in track['artists']:\n",
    "            track_artists += a['name'] + ','\n",
    "        track_artists = track_artists[:-1]\n",
    "        \n",
    "        track_album = track['album']\n",
    "        \n",
    "        album_id = track_album['id']\n",
    "        album_name = track_album['name']\n",
    "        album_img = track_album['images'][0]['url']\n",
    "        album_type = track_album['album_type']\n",
    "        release_date = track_album['release_date']\n",
    "\n",
    "        album_artists = ''\n",
    "        for a in track_album['artists']:\n",
    "            album_artists += a['name'] + ','\n",
    "        album_artists = track_artists[:-1]\n",
    "        \n",
    "        track_dict = {\n",
    "            'track_id': track_id,\n",
    "            'track_name': track_name,\n",
    "            'track_artists': track_artists,\n",
    "            'album_id': album_id            \n",
    "        }\n",
    "        \n",
    "        album_dict = {\n",
    "            'album_id': album_id,\n",
    "            'album_name': album_name,\n",
    "            'album_img': album_img,\n",
    "            'album_type': album_type,\n",
    "            'release_date': release_date\n",
    "        }\n",
    "        \n",
    "        track_list.append(track_dict)\n",
    "        album_list.append(album_dict)"
   ]
  },
  {
   "cell_type": "markdown",
   "metadata": {},
   "source": [
    "Converting the track list into a dataframe"
   ]
  },
  {
   "cell_type": "code",
   "execution_count": 5,
   "metadata": {
    "scrolled": false
   },
   "outputs": [
    {
     "data": {
      "text/html": [
       "<div>\n",
       "<style scoped>\n",
       "    .dataframe tbody tr th:only-of-type {\n",
       "        vertical-align: middle;\n",
       "    }\n",
       "\n",
       "    .dataframe tbody tr th {\n",
       "        vertical-align: top;\n",
       "    }\n",
       "\n",
       "    .dataframe thead th {\n",
       "        text-align: right;\n",
       "    }\n",
       "</style>\n",
       "<table border=\"1\" class=\"dataframe\">\n",
       "  <thead>\n",
       "    <tr style=\"text-align: right;\">\n",
       "      <th></th>\n",
       "      <th>album_id</th>\n",
       "      <th>track_artists</th>\n",
       "      <th>track_name</th>\n",
       "    </tr>\n",
       "    <tr>\n",
       "      <th>track_id</th>\n",
       "      <th></th>\n",
       "      <th></th>\n",
       "      <th></th>\n",
       "    </tr>\n",
       "  </thead>\n",
       "  <tbody>\n",
       "    <tr>\n",
       "      <th>2RSOzvKUnfDDrb2nQPfpQU</th>\n",
       "      <td>7uYn7ZSrXOVlmITyocZs9F</td>\n",
       "      <td>Aqua</td>\n",
       "      <td>Barbie Girl</td>\n",
       "    </tr>\n",
       "    <tr>\n",
       "      <th>3DZQ6mzUkAdHqZWzqxBKIK</th>\n",
       "      <td>4eddbruVtOqw8khwxSH6H2</td>\n",
       "      <td>Rihanna,Future</td>\n",
       "      <td>Loveeeeeee Song</td>\n",
       "    </tr>\n",
       "    <tr>\n",
       "      <th>68mxSfFGEVRJFoq2UCaVsU</th>\n",
       "      <td>6sGYOY400cCvztdQ4mBSZs</td>\n",
       "      <td>Catch 22</td>\n",
       "      <td>The Purge</td>\n",
       "    </tr>\n",
       "    <tr>\n",
       "      <th>2Y6MLh2iXf6PP2GzHPlLzb</th>\n",
       "      <td>102J7QdW6oFSUlQcWmJZ3E</td>\n",
       "      <td>Shoffy</td>\n",
       "      <td>Different Skies</td>\n",
       "    </tr>\n",
       "    <tr>\n",
       "      <th>6WmIyn2fx1PKQ0XDpYj4VR</th>\n",
       "      <td>6PWXKiakqhI17mTYM4y6oY</td>\n",
       "      <td>The 1975</td>\n",
       "      <td>Love It If We Made It</td>\n",
       "    </tr>\n",
       "  </tbody>\n",
       "</table>\n",
       "</div>"
      ],
      "text/plain": [
       "                                      album_id   track_artists  \\\n",
       "track_id                                                         \n",
       "2RSOzvKUnfDDrb2nQPfpQU  7uYn7ZSrXOVlmITyocZs9F            Aqua   \n",
       "3DZQ6mzUkAdHqZWzqxBKIK  4eddbruVtOqw8khwxSH6H2  Rihanna,Future   \n",
       "68mxSfFGEVRJFoq2UCaVsU  6sGYOY400cCvztdQ4mBSZs        Catch 22   \n",
       "2Y6MLh2iXf6PP2GzHPlLzb  102J7QdW6oFSUlQcWmJZ3E          Shoffy   \n",
       "6WmIyn2fx1PKQ0XDpYj4VR  6PWXKiakqhI17mTYM4y6oY        The 1975   \n",
       "\n",
       "                                   track_name  \n",
       "track_id                                       \n",
       "2RSOzvKUnfDDrb2nQPfpQU            Barbie Girl  \n",
       "3DZQ6mzUkAdHqZWzqxBKIK        Loveeeeeee Song  \n",
       "68mxSfFGEVRJFoq2UCaVsU              The Purge  \n",
       "2Y6MLh2iXf6PP2GzHPlLzb        Different Skies  \n",
       "6WmIyn2fx1PKQ0XDpYj4VR  Love It If We Made It  "
      ]
     },
     "execution_count": 5,
     "metadata": {},
     "output_type": "execute_result"
    }
   ],
   "source": [
    "track_df = pandas.DataFrame(track_list)\n",
    "track_df.set_index('track_id', inplace=True) # change index to be the track id\n",
    "track_df.head() # preview first 5 rows of data"
   ]
  },
  {
   "cell_type": "code",
   "execution_count": 6,
   "metadata": {},
   "outputs": [
    {
     "data": {
      "text/html": [
       "<div>\n",
       "<style scoped>\n",
       "    .dataframe tbody tr th:only-of-type {\n",
       "        vertical-align: middle;\n",
       "    }\n",
       "\n",
       "    .dataframe tbody tr th {\n",
       "        vertical-align: top;\n",
       "    }\n",
       "\n",
       "    .dataframe thead th {\n",
       "        text-align: right;\n",
       "    }\n",
       "</style>\n",
       "<table border=\"1\" class=\"dataframe\">\n",
       "  <thead>\n",
       "    <tr style=\"text-align: right;\">\n",
       "      <th></th>\n",
       "      <th>album_img</th>\n",
       "      <th>album_name</th>\n",
       "      <th>album_type</th>\n",
       "      <th>release_date</th>\n",
       "    </tr>\n",
       "    <tr>\n",
       "      <th>album_id</th>\n",
       "      <th></th>\n",
       "      <th></th>\n",
       "      <th></th>\n",
       "      <th></th>\n",
       "    </tr>\n",
       "  </thead>\n",
       "  <tbody>\n",
       "    <tr>\n",
       "      <th>7uYn7ZSrXOVlmITyocZs9F</th>\n",
       "      <td>https://i.scdn.co/image/842c8f1e41d2ceb29dfaa9...</td>\n",
       "      <td>Aquarium</td>\n",
       "      <td>album</td>\n",
       "      <td>1997-01-01</td>\n",
       "    </tr>\n",
       "    <tr>\n",
       "      <th>4eddbruVtOqw8khwxSH6H2</th>\n",
       "      <td>https://i.scdn.co/image/31ed5458991f5d4da0219c...</td>\n",
       "      <td>Unapologetic (Deluxe)</td>\n",
       "      <td>album</td>\n",
       "      <td>2012-12-11</td>\n",
       "    </tr>\n",
       "    <tr>\n",
       "      <th>6sGYOY400cCvztdQ4mBSZs</th>\n",
       "      <td>https://i.scdn.co/image/dd1f727c82b7c4efcd0ab6...</td>\n",
       "      <td>Permanent Revolution</td>\n",
       "      <td>album</td>\n",
       "      <td>2006</td>\n",
       "    </tr>\n",
       "    <tr>\n",
       "      <th>102J7QdW6oFSUlQcWmJZ3E</th>\n",
       "      <td>https://i.scdn.co/image/be577ad43031a3615d349a...</td>\n",
       "      <td>Shoffy</td>\n",
       "      <td>album</td>\n",
       "      <td>2017-09-09</td>\n",
       "    </tr>\n",
       "    <tr>\n",
       "      <th>6PWXKiakqhI17mTYM4y6oY</th>\n",
       "      <td>https://i.scdn.co/image/24753fe5d9ec614b83e1f0...</td>\n",
       "      <td>A Brief Inquiry Into Online Relationships</td>\n",
       "      <td>album</td>\n",
       "      <td>2018-11-30</td>\n",
       "    </tr>\n",
       "  </tbody>\n",
       "</table>\n",
       "</div>"
      ],
      "text/plain": [
       "                                                                album_img  \\\n",
       "album_id                                                                    \n",
       "7uYn7ZSrXOVlmITyocZs9F  https://i.scdn.co/image/842c8f1e41d2ceb29dfaa9...   \n",
       "4eddbruVtOqw8khwxSH6H2  https://i.scdn.co/image/31ed5458991f5d4da0219c...   \n",
       "6sGYOY400cCvztdQ4mBSZs  https://i.scdn.co/image/dd1f727c82b7c4efcd0ab6...   \n",
       "102J7QdW6oFSUlQcWmJZ3E  https://i.scdn.co/image/be577ad43031a3615d349a...   \n",
       "6PWXKiakqhI17mTYM4y6oY  https://i.scdn.co/image/24753fe5d9ec614b83e1f0...   \n",
       "\n",
       "                                                       album_name album_type  \\\n",
       "album_id                                                                       \n",
       "7uYn7ZSrXOVlmITyocZs9F                                   Aquarium      album   \n",
       "4eddbruVtOqw8khwxSH6H2                      Unapologetic (Deluxe)      album   \n",
       "6sGYOY400cCvztdQ4mBSZs                       Permanent Revolution      album   \n",
       "102J7QdW6oFSUlQcWmJZ3E                                     Shoffy      album   \n",
       "6PWXKiakqhI17mTYM4y6oY  A Brief Inquiry Into Online Relationships      album   \n",
       "\n",
       "                       release_date  \n",
       "album_id                             \n",
       "7uYn7ZSrXOVlmITyocZs9F   1997-01-01  \n",
       "4eddbruVtOqw8khwxSH6H2   2012-12-11  \n",
       "6sGYOY400cCvztdQ4mBSZs         2006  \n",
       "102J7QdW6oFSUlQcWmJZ3E   2017-09-09  \n",
       "6PWXKiakqhI17mTYM4y6oY   2018-11-30  "
      ]
     },
     "execution_count": 6,
     "metadata": {},
     "output_type": "execute_result"
    }
   ],
   "source": [
    "album_df = pandas.DataFrame(album_list)\n",
    "album_df.set_index('album_id', inplace=True)\n",
    "album_df.drop_duplicates(keep='first', inplace=True) # drop duplicate albums\n",
    "album_df.head()"
   ]
  },
  {
   "cell_type": "markdown",
   "metadata": {},
   "source": [
    "Checking dataframe shapes"
   ]
  },
  {
   "cell_type": "code",
   "execution_count": 7,
   "metadata": {},
   "outputs": [
    {
     "name": "stdout",
     "output_type": "stream",
     "text": [
      "(100, 3)\n",
      "(66, 4)\n"
     ]
    }
   ],
   "source": [
    "# 100 rows of data\n",
    "# 3 columns\n",
    "print(track_df.shape)\n",
    "\n",
    "# less than or equal to 100 rows of data\n",
    "# 4 columns\n",
    "print(album_df.shape)"
   ]
  },
  {
   "cell_type": "markdown",
   "metadata": {},
   "source": [
    "Saving the dataframes as csv files"
   ]
  },
  {
   "cell_type": "code",
   "execution_count": 8,
   "metadata": {
    "collapsed": true
   },
   "outputs": [],
   "source": [
    "track_df.to_csv('songs.csv')\n",
    "album_df.to_csv('albums.csv')"
   ]
  },
  {
   "cell_type": "markdown",
   "metadata": {},
   "source": [
    "Check out the csv files!"
   ]
  }
 ],
 "metadata": {
  "kernelspec": {
   "display_name": "Python 3",
   "language": "python",
   "name": "python3"
  },
  "language_info": {
   "codemirror_mode": {
    "name": "ipython",
    "version": 3
   },
   "file_extension": ".py",
   "mimetype": "text/x-python",
   "name": "python",
   "nbconvert_exporter": "python",
   "pygments_lexer": "ipython3",
   "version": "3.6.3"
  }
 },
 "nbformat": 4,
 "nbformat_minor": 2
}
